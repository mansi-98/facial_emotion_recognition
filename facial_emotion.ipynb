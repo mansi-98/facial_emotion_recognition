{
  "nbformat": 4,
  "nbformat_minor": 0,
  "metadata": {
    "colab": {
      "name": "facial_emotion.ipynb",
      "provenance": [],
      "mount_file_id": "1GV-A2o05vYOlbN4mP9z34EmdhTHWPosA",
      "authorship_tag": "ABX9TyNIdt43Y3iJFcSy7UmsbjFA",
      "include_colab_link": true
    },
    "kernelspec": {
      "name": "python3",
      "display_name": "Python 3"
    }
  },
  "cells": [
    {
      "cell_type": "markdown",
      "metadata": {
        "id": "view-in-github",
        "colab_type": "text"
      },
      "source": [
        "<a href=\"https://colab.research.google.com/github/mansi-98/facial_emotion_recognition/blob/master/facial_emotion.ipynb\" target=\"_parent\"><img src=\"https://colab.research.google.com/assets/colab-badge.svg\" alt=\"Open In Colab\"/></a>"
      ]
    },
    {
      "cell_type": "code",
      "metadata": {
        "id": "7BnW73cn-Kq6",
        "colab_type": "code",
        "colab": {
          "base_uri": "https://localhost:8080/",
          "height": 34
        },
        "outputId": "b7eeeff1-5a56-4da1-a2fb-9d226fb88b7c"
      },
      "source": [
        "from google.colab import drive\n",
        "drive.mount('/content/drive')"
      ],
      "execution_count": 112,
      "outputs": [
        {
          "output_type": "stream",
          "text": [
            "Drive already mounted at /content/drive; to attempt to forcibly remount, call drive.mount(\"/content/drive\", force_remount=True).\n"
          ],
          "name": "stdout"
        }
      ]
    },
    {
      "cell_type": "code",
      "metadata": {
        "id": "YIh1gJ-rmWO8",
        "colab_type": "code",
        "colab": {}
      },
      "source": [
        "import pandas as pd\n",
        "import numpy as np\n",
        "import cv2\n",
        "import glob\n",
        "import warnings\n",
        "from keras.layers import Dense , Conv2D , Dropout , Flatten , Activation, MaxPooling2D\n",
        "from keras.models import Sequential\n",
        "from keras.layers.normalization import BatchNormalization\n",
        "from keras.regularizers import l2\n",
        "from tensorflow.keras.optimizers import Adam\n",
        "\n",
        "warnings.simplefilter('ignore')"
      ],
      "execution_count": 0,
      "outputs": []
    },
    {
      "cell_type": "code",
      "metadata": {
        "id": "hrfiLV_uqNy2",
        "colab_type": "code",
        "colab": {}
      },
      "source": [
        "img_size = 48\n",
        "image=cv2.imread('/content/drive/My Drive/dataset/angry/angry1.jpg')\n",
        "image=cv2.resize(image,(img_size,img_size),interpolation=cv2.INTER_AREA)"
      ],
      "execution_count": 0,
      "outputs": []
    },
    {
      "cell_type": "code",
      "metadata": {
        "id": "X5ncyLQZ9s5N",
        "colab_type": "code",
        "colab": {}
      },
      "source": [
        "img_size = 48\n",
        "def read_images(path,emotion) :\n",
        "    images = []\n",
        "    labels = []\n",
        "    for img in glob.glob(path+\"/\"+emotion+\"/*.jpg\") :\n",
        "        image = cv2.imread(img)\n",
        "        image=cv2.resize(image,(img_size,img_size),interpolation=cv2.INTER_AREA)\n",
        "        images.append(image)\n",
        "        labels.append(emotion)\n",
        "    return labels,images \n",
        "labels,images_angry = read_images(\"/content/drive/My Drive/dataset\",\"angry\")    "
      ],
      "execution_count": 0,
      "outputs": []
    },
    {
      "cell_type": "code",
      "metadata": {
        "id": "Mj5NShww9siU",
        "colab_type": "code",
        "colab": {
          "base_uri": "https://localhost:8080/",
          "height": 34
        },
        "outputId": "b2dac110-1033-432d-d4e3-7b0e504a96f2"
      },
      "source": [
        "labels"
      ],
      "execution_count": 116,
      "outputs": [
        {
          "output_type": "execute_result",
          "data": {
            "text/plain": [
              "['angry', 'angry']"
            ]
          },
          "metadata": {
            "tags": []
          },
          "execution_count": 116
        }
      ]
    },
    {
      "cell_type": "code",
      "metadata": {
        "id": "ULPWjrlI3_s9",
        "colab_type": "code",
        "colab": {}
      },
      "source": [
        "def read_images_gray(path,emotion) :\n",
        "    images = []\n",
        "    labels = []\n",
        "    for img in glob.glob(path+\"/\"+emotion+\"/*.png\") :\n",
        "        n = cv2.imread(img)\n",
        "        n = cv2.cvtColor(n, cv2.COLOR_BGR2GRAY)\n",
        "        images.append(n)\n",
        "        labels.append(emotion)\n",
        "    return labels,images"
      ],
      "execution_count": 0,
      "outputs": []
    },
    {
      "cell_type": "code",
      "metadata": {
        "id": "a0jCkklR4ZPU",
        "colab_type": "code",
        "colab": {
          "base_uri": "https://localhost:8080/",
          "height": 281
        },
        "outputId": "c471a3df-defd-47cc-93af-cae5ccea01d4"
      },
      "source": [
        "import matplotlib.pyplot as plt\n",
        "plt.figure(figsize=(10,10))\n",
        "for i in range(2) :\n",
        "    plt.subplot(2,2,i+1)\n",
        "    plt.xticks([])\n",
        "    plt.yticks([])\n",
        "    plt.grid(False)\n",
        "    plt.imshow(images_angry[i],cmap = plt.cm.binary)"
      ],
      "execution_count": 118,
      "outputs": [
        {
          "output_type": "display_data",
          "data": {
            "image/png": "[encoded data removed]",
            "text/plain": [
              "<Figure size 720x720 with 2 Axes>"
            ]
          },
          "metadata": {
            "tags": []
          }
        }
      ]
    },
    {
      "cell_type": "code",
      "metadata": {
        "id": "RohnDiYk4Poo",
        "colab_type": "code",
        "colab": {}
      },
      "source": [
        "labels,images_happy = read_images(\"/content/drive/My Drive/test\",\"happy\")"
      ],
      "execution_count": 0,
      "outputs": []
    },
    {
      "cell_type": "code",
      "metadata": {
        "id": "m547sLdc4eZ_",
        "colab_type": "code",
        "colab": {}
      },
      "source": [
        "labels_full = ['angry','happy','neutral','sad','surprise']\n",
        "full_Images = []\n",
        "full_Labels = []\n",
        "for label in labels_full :\n",
        "    labels,images = read_images(\"/content/drive/My Drive/dataset\",label)\n",
        "    full_Images = full_Images + images\n",
        "    full_Labels = full_Labels + labels"
      ],
      "execution_count": 0,
      "outputs": []
    },
    {
      "cell_type": "code",
      "metadata": {
        "id": "8sxpaPCa3MnU",
        "colab_type": "code",
        "colab": {}
      },
      "source": [
        "for label in labels_full :\n",
        "    labels,images = read_images(\"/content/drive/My Drive/test\",label) \n",
        "    full_Images = full_Images + images\n",
        "    full_Labels = full_Labels + labels "
      ],
      "execution_count": 0,
      "outputs": []
    },
    {
      "cell_type": "code",
      "metadata": {
        "id": "RLzlMevty1DQ",
        "colab_type": "code",
        "colab": {}
      },
      "source": [
        "#full_Images"
      ],
      "execution_count": 0,
      "outputs": []
    },
    {
      "cell_type": "code",
      "metadata": {
        "id": "bnXxoGL8y4Ge",
        "colab_type": "code",
        "colab": {
          "base_uri": "https://localhost:8080/",
          "height": 269
        },
        "outputId": "885907d1-0a3b-497c-f8c8-b7bc05520eb1"
      },
      "source": [
        "full_Labels"
      ],
      "execution_count": 123,
      "outputs": [
        {
          "output_type": "execute_result",
          "data": {
            "text/plain": [
              "['angry',\n",
              " 'angry',\n",
              " 'happy',\n",
              " 'happy',\n",
              " 'neutral',\n",
              " 'neutral',\n",
              " 'sad',\n",
              " 'sad',\n",
              " 'surprise',\n",
              " 'surprise',\n",
              " 'angry',\n",
              " 'happy',\n",
              " 'neutral',\n",
              " 'sad',\n",
              " 'surprise']"
            ]
          },
          "metadata": {
            "tags": []
          },
          "execution_count": 123
        }
      ]
    },
    {
      "cell_type": "code",
      "metadata": {
        "id": "H1QMfz0Ky6jb",
        "colab_type": "code",
        "colab": {}
      },
      "source": [
        "X = np.array(full_Images)"
      ],
      "execution_count": 0,
      "outputs": []
    },
    {
      "cell_type": "code",
      "metadata": {
        "id": "AmQovkzF3jZJ",
        "colab_type": "code",
        "colab": {}
      },
      "source": [
        "dic = {'angry' : 0 , 'happy' : 1,'neutral':2,'sad':3,'surprised':4}"
      ],
      "execution_count": 0,
      "outputs": []
    },
    {
      "cell_type": "code",
      "metadata": {
        "id": "p5QQ7f7-3y5S",
        "colab_type": "code",
        "colab": {
          "base_uri": "https://localhost:8080/",
          "height": 34
        },
        "outputId": "3f500935-0f04-4f78-8570-162e7a628a18"
      },
      "source": [
        "inv_dic = {v: k for k, v in dic.items()}\n",
        "inv_dic"
      ],
      "execution_count": 126,
      "outputs": [
        {
          "output_type": "execute_result",
          "data": {
            "text/plain": [
              "{0: 'angry', 1: 'happy', 2: 'neutral', 3: 'sad', 4: 'surprised'}"
            ]
          },
          "metadata": {
            "tags": []
          },
          "execution_count": 126
        }
      ]
    },
    {
      "cell_type": "code",
      "metadata": {
        "id": "KwnfnF0r4Eve",
        "colab_type": "code",
        "colab": {}
      },
      "source": [
        "y = np.array(full_Labels)\n",
        "\n",
        "for i,element in enumerate(y) :\n",
        "    if element == 'angry' :\n",
        "        y[i] = 0\n",
        "    elif element == 'happy' :\n",
        "        y[i] = 1\n",
        "    elif element == 'neutral' :\n",
        "        y[i] = 2\n",
        "    elif element == 'sad' :\n",
        "        y[i] = 3\n",
        "    else :\n",
        "        y[i] = 4"
      ],
      "execution_count": 0,
      "outputs": []
    },
    {
      "cell_type": "code",
      "metadata": {
        "id": "Ub9m5sfl4Q2d",
        "colab_type": "code",
        "colab": {}
      },
      "source": [
        "from sklearn.utils import shuffle\n",
        "import numpy as np\n",
        "\n",
        "\n",
        "X, y = shuffle(X, y)"
      ],
      "execution_count": 0,
      "outputs": []
    },
    {
      "cell_type": "code",
      "metadata": {
        "id": "3bTmz7HP4Unf",
        "colab_type": "code",
        "colab": {}
      },
      "source": [
        "from keras import utils \n",
        "\n",
        "y = utils.to_categorical(y,5)"
      ],
      "execution_count": 0,
      "outputs": []
    },
    {
      "cell_type": "code",
      "metadata": {
        "id": "x5rXhUQF4YbX",
        "colab_type": "code",
        "colab": {
          "base_uri": "https://localhost:8080/",
          "height": 50
        },
        "outputId": "61fc21e1-72cc-4f89-d31f-092341cbbba9"
      },
      "source": [
        "print(X.shape)\n",
        "print(y.shape)"
      ],
      "execution_count": 130,
      "outputs": [
        {
          "output_type": "stream",
          "text": [
            "(15, 48, 48, 3)\n",
            "(15, 5)\n"
          ],
          "name": "stdout"
        }
      ]
    },
    {
      "cell_type": "code",
      "metadata": {
        "id": "5AJsa_G_4bZi",
        "colab_type": "code",
        "colab": {}
      },
      "source": [
        "from numpy import save\n",
        "\n",
        "save('X.npy',X)\n",
        "save('Y.npy',y)"
      ],
      "execution_count": 0,
      "outputs": []
    },
    {
      "cell_type": "markdown",
      "metadata": {
        "id": "s4-yxeGInrSm",
        "colab_type": "text"
      },
      "source": [
        "# Model"
      ]
    },
    {
      "cell_type": "code",
      "metadata": {
        "id": "j5NFQkx05vGd",
        "colab_type": "code",
        "colab": {
          "base_uri": "https://localhost:8080/",
          "height": 689
        },
        "outputId": "d1a79422-9e70-4c15-8e06-1d2f11bf5353"
      },
      "source": [
        "from keras.layers import Dense , Conv2D , Dropout , Flatten , Activation, MaxPooling2D\n",
        "from keras.models import Sequential\n",
        "from keras.layers.normalization import BatchNormalization\n",
        "\n",
        "model = Sequential()\n",
        "model.add(Conv2D(64,kernel_size=(3,3),kernel_regularizer=l2(0.0001),activation='relu',input_shape=(48,48,3)))\n",
        "model.add(Conv2D(64,kernel_size=(3,3),activation='relu'))\n",
        "model.add(Conv2D(64,kernel_size=(3,3),activation='relu'))\n",
        "model.add(BatchNormalization())\n",
        "model.add(MaxPooling2D(pool_size=(2,2)))\n",
        "\n",
        "model.add(Dropout(0.3))\n",
        "\n",
        "model.add(Conv2D(128,kernel_size=(3,3),kernel_regularizer=l2(0.0001),activation='relu'))\n",
        "model.add(Conv2D(128,kernel_size=(3,3),activation='relu'))\n",
        "model.add(BatchNormalization())\n",
        "model.add(MaxPooling2D(pool_size=(2,2)))\n",
        "\n",
        "model.add(Dropout(0.5))\n",
        "\n",
        "# model.add(Conv2D(256,kernel_size=(3,3),kernel_regularizer=l2(0.0001),activation='relu'))\n",
        "# model.add(Conv2D(256,kernel_size=(3,3),activation='relu'))\n",
        "# model.add(BatchNormalization())\n",
        "# model.add(MaxPooling2D(pool_size=(2,2)))\n",
        "\n",
        "model.add(Dropout(0.5))\n",
        "\n",
        "model.add(Flatten())\n",
        "\n",
        "\n",
        "model.add(Dense(1024,kernel_regularizer=l2(0.001),activation='relu'))\n",
        "model.add(Dropout(0.4))\n",
        "model.add(Dense(5,activation='softmax'))\n",
        "\n",
        "model.summary()"
      ],
      "execution_count": 132,
      "outputs": [
        {
          "output_type": "stream",
          "text": [
            "Model: \"sequential_6\"\n",
            "_________________________________________________________________\n",
            "Layer (type)                 Output Shape              Param #   \n",
            "=================================================================\n",
            "conv2d_38 (Conv2D)           (None, 46, 46, 64)        1792      \n",
            "_________________________________________________________________\n",
            "conv2d_39 (Conv2D)           (None, 44, 44, 64)        36928     \n",
            "_________________________________________________________________\n",
            "conv2d_40 (Conv2D)           (None, 42, 42, 64)        36928     \n",
            "_________________________________________________________________\n",
            "batch_normalization_22 (Batc (None, 42, 42, 64)        256       \n",
            "_________________________________________________________________\n",
            "max_pooling2d_13 (MaxPooling (None, 21, 21, 64)        0         \n",
            "_________________________________________________________________\n",
            "dropout_21 (Dropout)         (None, 21, 21, 64)        0         \n",
            "_________________________________________________________________\n",
            "conv2d_41 (Conv2D)           (None, 19, 19, 128)       73856     \n",
            "_________________________________________________________________\n",
            "conv2d_42 (Conv2D)           (None, 17, 17, 128)       147584    \n",
            "_________________________________________________________________\n",
            "batch_normalization_23 (Batc (None, 17, 17, 128)       512       \n",
            "_________________________________________________________________\n",
            "max_pooling2d_14 (MaxPooling (None, 8, 8, 128)         0         \n",
            "_________________________________________________________________\n",
            "dropout_22 (Dropout)         (None, 8, 8, 128)         0         \n",
            "_________________________________________________________________\n",
            "dropout_23 (Dropout)         (None, 8, 8, 128)         0         \n",
            "_________________________________________________________________\n",
            "flatten_5 (Flatten)          (None, 8192)              0         \n",
            "_________________________________________________________________\n",
            "dense_9 (Dense)              (None, 1024)              8389632   \n",
            "_________________________________________________________________\n",
            "dropout_24 (Dropout)         (None, 1024)              0         \n",
            "_________________________________________________________________\n",
            "dense_10 (Dense)             (None, 5)                 5125      \n",
            "=================================================================\n",
            "Total params: 8,692,613\n",
            "Trainable params: 8,692,229\n",
            "Non-trainable params: 384\n",
            "_________________________________________________________________\n"
          ],
          "name": "stdout"
        }
      ]
    },
    {
      "cell_type": "code",
      "metadata": {
        "id": "ThtY5f635yor",
        "colab_type": "code",
        "colab": {
          "base_uri": "https://localhost:8080/",
          "height": 1000
        },
        "outputId": "8fd7dce3-5ff0-4c2a-e258-b86864a7d834"
      },
      "source": [
        "batch = 32\n",
        "epoch = 50\n",
        "\n",
        "\n",
        "#from keras import optimizers\n",
        "\n",
        "#optimus_prime = optimizers.Adam(lr=0.002, beta_1=0.85, beta_2=0.999, amsgrad=False)\n",
        "\n",
        "\n",
        "model.compile(optimizer='RMSprop',loss='categorical_crossentropy',metrics=['accuracy'])\n",
        "model.fit(X,y,validation_split=0.1,batch_size = batch,epochs = epoch)"
      ],
      "execution_count": 133,
      "outputs": [
        {
          "output_type": "stream",
          "text": [
            "Train on 13 samples, validate on 2 samples\n",
            "Epoch 1/50\n",
            "13/13 [==============================] - 1s 87ms/step - loss: 7.0212 - accuracy: 0.2308 - val_loss: 393.8417 - val_accuracy: 0.0000e+00\n",
            "Epoch 2/50\n",
            "13/13 [==============================] - 1s 43ms/step - loss: 9.2886 - accuracy: 0.3846 - val_loss: 502.5640 - val_accuracy: 0.0000e+00\n",
            "Epoch 3/50\n",
            "13/13 [==============================] - 1s 45ms/step - loss: 28.8277 - accuracy: 0.4615 - val_loss: 195.2747 - val_accuracy: 0.0000e+00\n",
            "Epoch 4/50\n",
            "13/13 [==============================] - 1s 42ms/step - loss: 15.0938 - accuracy: 0.3077 - val_loss: 356.3029 - val_accuracy: 0.0000e+00\n",
            "Epoch 5/50\n",
            "13/13 [==============================] - 1s 43ms/step - loss: 17.7326 - accuracy: 0.5385 - val_loss: 157.2603 - val_accuracy: 0.0000e+00\n",
            "Epoch 6/50\n",
            "13/13 [==============================] - 1s 43ms/step - loss: 11.7261 - accuracy: 0.6154 - val_loss: 246.2617 - val_accuracy: 0.0000e+00\n",
            "Epoch 7/50\n",
            "13/13 [==============================] - 1s 46ms/step - loss: 10.0389 - accuracy: 0.7692 - val_loss: 225.8932 - val_accuracy: 0.0000e+00\n",
            "Epoch 8/50\n",
            "13/13 [==============================] - 1s 44ms/step - loss: 2.4716 - accuracy: 0.7692 - val_loss: 207.0712 - val_accuracy: 0.0000e+00\n",
            "Epoch 9/50\n",
            "13/13 [==============================] - 1s 43ms/step - loss: 3.4574 - accuracy: 0.7692 - val_loss: 159.0520 - val_accuracy: 0.0000e+00\n",
            "Epoch 10/50\n",
            "13/13 [==============================] - 1s 43ms/step - loss: 8.3988 - accuracy: 0.6154 - val_loss: 146.7163 - val_accuracy: 0.0000e+00\n",
            "Epoch 11/50\n",
            "13/13 [==============================] - 1s 43ms/step - loss: 6.1622 - accuracy: 0.6154 - val_loss: 56.2146 - val_accuracy: 0.0000e+00\n",
            "Epoch 12/50\n",
            "13/13 [==============================] - 1s 43ms/step - loss: 2.3548 - accuracy: 0.8462 - val_loss: 111.3071 - val_accuracy: 0.0000e+00\n",
            "Epoch 13/50\n",
            "13/13 [==============================] - 1s 42ms/step - loss: 2.6314 - accuracy: 0.9231 - val_loss: 94.3035 - val_accuracy: 0.0000e+00\n",
            "Epoch 14/50\n",
            "13/13 [==============================] - 1s 43ms/step - loss: 2.5818 - accuracy: 0.9231 - val_loss: 103.4874 - val_accuracy: 0.0000e+00\n",
            "Epoch 15/50\n",
            "13/13 [==============================] - 1s 42ms/step - loss: 1.8702 - accuracy: 0.9231 - val_loss: 78.3250 - val_accuracy: 0.0000e+00\n",
            "Epoch 16/50\n",
            "13/13 [==============================] - 1s 44ms/step - loss: 2.1314 - accuracy: 0.8462 - val_loss: 48.8168 - val_accuracy: 0.0000e+00\n",
            "Epoch 17/50\n",
            "13/13 [==============================] - 1s 43ms/step - loss: 1.6044 - accuracy: 1.0000 - val_loss: 50.4433 - val_accuracy: 0.0000e+00\n",
            "Epoch 18/50\n",
            "13/13 [==============================] - 1s 43ms/step - loss: 1.5756 - accuracy: 1.0000 - val_loss: 50.4916 - val_accuracy: 0.0000e+00\n",
            "Epoch 19/50\n",
            "13/13 [==============================] - 1s 43ms/step - loss: 1.5660 - accuracy: 1.0000 - val_loss: 47.7681 - val_accuracy: 0.0000e+00\n",
            "Epoch 20/50\n",
            "13/13 [==============================] - 1s 43ms/step - loss: 1.5630 - accuracy: 1.0000 - val_loss: 44.5924 - val_accuracy: 0.0000e+00\n",
            "Epoch 21/50\n",
            "13/13 [==============================] - 1s 44ms/step - loss: 1.7783 - accuracy: 0.8462 - val_loss: 57.0227 - val_accuracy: 0.0000e+00\n",
            "Epoch 22/50\n",
            "13/13 [==============================] - 1s 43ms/step - loss: 1.5585 - accuracy: 1.0000 - val_loss: 54.7564 - val_accuracy: 0.0000e+00\n",
            "Epoch 23/50\n",
            "13/13 [==============================] - 1s 44ms/step - loss: 1.6006 - accuracy: 1.0000 - val_loss: 36.8656 - val_accuracy: 0.0000e+00\n",
            "Epoch 24/50\n",
            "13/13 [==============================] - 1s 43ms/step - loss: 1.7445 - accuracy: 0.9231 - val_loss: 22.0207 - val_accuracy: 0.0000e+00\n",
            "Epoch 25/50\n",
            "13/13 [==============================] - 1s 44ms/step - loss: 2.5234 - accuracy: 0.7692 - val_loss: 50.4566 - val_accuracy: 0.0000e+00\n",
            "Epoch 26/50\n",
            "13/13 [==============================] - 1s 43ms/step - loss: 1.5875 - accuracy: 1.0000 - val_loss: 38.4683 - val_accuracy: 0.0000e+00\n",
            "Epoch 27/50\n",
            "13/13 [==============================] - 1s 44ms/step - loss: 1.5472 - accuracy: 1.0000 - val_loss: 36.3780 - val_accuracy: 0.0000e+00\n",
            "Epoch 28/50\n",
            "13/13 [==============================] - 1s 43ms/step - loss: 1.5535 - accuracy: 1.0000 - val_loss: 33.2077 - val_accuracy: 0.0000e+00\n",
            "Epoch 29/50\n",
            "13/13 [==============================] - 1s 43ms/step - loss: 1.5404 - accuracy: 1.0000 - val_loss: 31.9832 - val_accuracy: 0.0000e+00\n",
            "Epoch 30/50\n",
            "13/13 [==============================] - 1s 43ms/step - loss: 1.5601 - accuracy: 1.0000 - val_loss: 21.5926 - val_accuracy: 0.0000e+00\n",
            "Epoch 31/50\n",
            "13/13 [==============================] - 1s 43ms/step - loss: 1.5372 - accuracy: 1.0000 - val_loss: 22.1630 - val_accuracy: 0.0000e+00\n",
            "Epoch 32/50\n",
            "13/13 [==============================] - 1s 43ms/step - loss: 1.6857 - accuracy: 0.8462 - val_loss: 20.9942 - val_accuracy: 0.0000e+00\n",
            "Epoch 33/50\n",
            "13/13 [==============================] - 1s 43ms/step - loss: 3.5540 - accuracy: 0.8462 - val_loss: 20.1027 - val_accuracy: 0.0000e+00\n",
            "Epoch 34/50\n",
            "13/13 [==============================] - 1s 43ms/step - loss: 4.4858 - accuracy: 0.6154 - val_loss: 66.4937 - val_accuracy: 0.0000e+00\n",
            "Epoch 35/50\n",
            "13/13 [==============================] - 1s 43ms/step - loss: 7.1907 - accuracy: 0.7692 - val_loss: 76.5295 - val_accuracy: 0.0000e+00\n",
            "Epoch 36/50\n",
            "13/13 [==============================] - 1s 43ms/step - loss: 3.5656 - accuracy: 0.6154 - val_loss: 49.5305 - val_accuracy: 0.0000e+00\n",
            "Epoch 37/50\n",
            "13/13 [==============================] - 1s 43ms/step - loss: 2.7103 - accuracy: 0.8462 - val_loss: 70.4762 - val_accuracy: 0.0000e+00\n",
            "Epoch 38/50\n",
            "13/13 [==============================] - 1s 43ms/step - loss: 4.3098 - accuracy: 0.8462 - val_loss: 47.2065 - val_accuracy: 0.0000e+00\n",
            "Epoch 39/50\n",
            "13/13 [==============================] - 1s 44ms/step - loss: 1.5882 - accuracy: 0.9231 - val_loss: 36.8948 - val_accuracy: 0.0000e+00\n",
            "Epoch 40/50\n",
            "13/13 [==============================] - 1s 43ms/step - loss: 1.5681 - accuracy: 1.0000 - val_loss: 16.8521 - val_accuracy: 0.0000e+00\n",
            "Epoch 41/50\n",
            "13/13 [==============================] - 1s 44ms/step - loss: 1.5759 - accuracy: 1.0000 - val_loss: 17.9356 - val_accuracy: 0.0000e+00\n",
            "Epoch 42/50\n",
            "13/13 [==============================] - 1s 43ms/step - loss: 1.7306 - accuracy: 0.9231 - val_loss: 16.4696 - val_accuracy: 0.0000e+00\n",
            "Epoch 43/50\n",
            "13/13 [==============================] - 1s 43ms/step - loss: 1.5200 - accuracy: 1.0000 - val_loss: 16.2381 - val_accuracy: 0.0000e+00\n",
            "Epoch 44/50\n",
            "13/13 [==============================] - 1s 43ms/step - loss: 1.5133 - accuracy: 1.0000 - val_loss: 15.4218 - val_accuracy: 0.0000e+00\n",
            "Epoch 45/50\n",
            "13/13 [==============================] - 1s 44ms/step - loss: 1.5086 - accuracy: 1.0000 - val_loss: 13.1638 - val_accuracy: 0.0000e+00\n",
            "Epoch 46/50\n",
            "13/13 [==============================] - 1s 46ms/step - loss: 1.5052 - accuracy: 1.0000 - val_loss: 11.7922 - val_accuracy: 0.0000e+00\n",
            "Epoch 47/50\n",
            "13/13 [==============================] - 1s 42ms/step - loss: 1.5016 - accuracy: 1.0000 - val_loss: 12.8651 - val_accuracy: 0.0000e+00\n",
            "Epoch 48/50\n",
            "13/13 [==============================] - 1s 43ms/step - loss: 1.4932 - accuracy: 1.0000 - val_loss: 12.0213 - val_accuracy: 0.0000e+00\n",
            "Epoch 49/50\n",
            "13/13 [==============================] - 1s 43ms/step - loss: 1.4932 - accuracy: 1.0000 - val_loss: 10.8834 - val_accuracy: 0.0000e+00\n",
            "Epoch 50/50\n",
            "13/13 [==============================] - 1s 43ms/step - loss: 1.4836 - accuracy: 1.0000 - val_loss: 10.2268 - val_accuracy: 0.0000e+00\n"
          ],
          "name": "stdout"
        },
        {
          "output_type": "execute_result",
          "data": {
            "text/plain": [
              "<keras.callbacks.callbacks.History at 0x7fc6ab63b9e8>"
            ]
          },
          "metadata": {
            "tags": []
          },
          "execution_count": 133
        }
      ]
    },
    {
      "cell_type": "code",
      "metadata": {
        "id": "ikg67wcq5_K_",
        "colab_type": "code",
        "colab": {}
      },
      "source": [
        "from keras.preprocessing.image import ImageDataGenerator\n",
        "\n",
        "datagen = ImageDataGenerator(\n",
        "        rotation_range=40,\n",
        "        width_shift_range=0.2,\n",
        "        height_shift_range=0.2,\n",
        "        rescale=1./255,\n",
        "        shear_range=0.2,\n",
        "        zoom_range=0.2,\n",
        "        horizontal_flip=False,\n",
        "        fill_mode='nearest')"
      ],
      "execution_count": 0,
      "outputs": []
    },
    {
      "cell_type": "code",
      "metadata": {
        "id": "2P4V1dbB6TE0",
        "colab_type": "code",
        "colab": {
          "base_uri": "https://localhost:8080/",
          "height": 706
        },
        "outputId": "246d2ccd-a2bb-44d6-89e9-03ef8d82f5ea"
      },
      "source": [
        "it = datagen.flow(X,y)\n",
        "model.fit_generator(it,steps_per_epoch=40,epochs=20)"
      ],
      "execution_count": 135,
      "outputs": [
        {
          "output_type": "stream",
          "text": [
            "Epoch 1/20\n",
            "40/40 [==============================] - 24s 604ms/step - loss: 6.7993 - accuracy: 0.4617\n",
            "Epoch 2/20\n",
            "40/40 [==============================] - 24s 603ms/step - loss: 4.7425 - accuracy: 0.5683\n",
            "Epoch 3/20\n",
            "40/40 [==============================] - 24s 602ms/step - loss: 4.4550 - accuracy: 0.5750\n",
            "Epoch 4/20\n",
            "40/40 [==============================] - 24s 599ms/step - loss: 4.2501 - accuracy: 0.6183\n",
            "Epoch 5/20\n",
            "40/40 [==============================] - 24s 602ms/step - loss: 4.0136 - accuracy: 0.6333\n",
            "Epoch 6/20\n",
            "40/40 [==============================] - 24s 602ms/step - loss: 3.9716 - accuracy: 0.6417\n",
            "Epoch 7/20\n",
            "40/40 [==============================] - 24s 601ms/step - loss: 3.6565 - accuracy: 0.6417\n",
            "Epoch 8/20\n",
            "40/40 [==============================] - 24s 602ms/step - loss: 3.1780 - accuracy: 0.6833\n",
            "Epoch 9/20\n",
            "40/40 [==============================] - 24s 601ms/step - loss: 3.1802 - accuracy: 0.6983\n",
            "Epoch 10/20\n",
            "40/40 [==============================] - 24s 601ms/step - loss: 2.6537 - accuracy: 0.7567\n",
            "Epoch 11/20\n",
            "40/40 [==============================] - 24s 601ms/step - loss: 2.8998 - accuracy: 0.7000\n",
            "Epoch 12/20\n",
            "40/40 [==============================] - 24s 601ms/step - loss: 2.4462 - accuracy: 0.7933\n",
            "Epoch 13/20\n",
            "40/40 [==============================] - 24s 601ms/step - loss: 2.3746 - accuracy: 0.7633\n",
            "Epoch 14/20\n",
            "40/40 [==============================] - 24s 601ms/step - loss: 2.3495 - accuracy: 0.7633\n",
            "Epoch 15/20\n",
            "40/40 [==============================] - 24s 599ms/step - loss: 2.2579 - accuracy: 0.7733\n",
            "Epoch 16/20\n",
            "40/40 [==============================] - 24s 602ms/step - loss: 2.0385 - accuracy: 0.7900\n",
            "Epoch 17/20\n",
            "40/40 [==============================] - 24s 602ms/step - loss: 2.0734 - accuracy: 0.7783\n",
            "Epoch 18/20\n",
            "40/40 [==============================] - 24s 604ms/step - loss: 1.8446 - accuracy: 0.8383\n",
            "Epoch 19/20\n",
            "40/40 [==============================] - 24s 601ms/step - loss: 1.8157 - accuracy: 0.8250\n",
            "Epoch 20/20\n",
            "40/40 [==============================] - 24s 601ms/step - loss: 1.7924 - accuracy: 0.8400\n"
          ],
          "name": "stdout"
        },
        {
          "output_type": "execute_result",
          "data": {
            "text/plain": [
              "<keras.callbacks.callbacks.History at 0x7fc6ab63b630>"
            ]
          },
          "metadata": {
            "tags": []
          },
          "execution_count": 135
        }
      ]
    },
    {
      "cell_type": "code",
      "metadata": {
        "id": "RMNJYJSy6WAx",
        "colab_type": "code",
        "colab": {}
      },
      "source": [
        "def evaluation(Z):\n",
        "    plt.style.use(\"ggplot\")\n",
        "\n",
        "    plt.figure(figsize=(20,8))\n",
        "    plt.plot(Z.history[\"loss\"], label=\"train_loss\")\n",
        "    plt.plot(Z.history[\"val_loss\"], label=\"val_loss\")\n",
        "    plt.plot(Z.history['acc'], label=\"train_acc\")\n",
        "    plt.plot(Z.history['val_acc'], label=\"val_acc\")\n",
        "    plt.title(\"Training Loss and Accuracy on Dataset\")\n",
        "    plt.xlabel(\"Epoch #\")\n",
        "    plt.ylabel(\"Loss/Accuracy\")\n",
        "    plt.legend(loc=\"lower left\")"
      ],
      "execution_count": 0,
      "outputs": []
    },
    {
      "cell_type": "code",
      "metadata": {
        "id": "0SrcgaaP6q_J",
        "colab_type": "code",
        "colab": {
          "base_uri": "https://localhost:8080/",
          "height": 248
        },
        "outputId": "1fc8464d-580f-4552-e947-89b79db8a47e"
      },
      "source": [
        "import dlib\n",
        "from PIL import Image\n",
        "from skimage import io\n",
        "import matplotlib.pyplot as plt\n",
        "\n",
        "\n",
        "def detect_faces(image):\n",
        "\n",
        "    # Create a face detector\n",
        "    face_detector = dlib.get_frontal_face_detector()\n",
        "\n",
        "    # Run detector and get bounding boxes of the faces on image.\n",
        "    detected_faces = face_detector(image, 1)\n",
        "    face_frames = [(x.left(), x.top(),\n",
        "                    x.right(), x.bottom()) for x in detected_faces]\n",
        "\n",
        "    return face_frames\n",
        "\n",
        "# Load image\n",
        "\n",
        "img_path = '/content/drive/My Drive/IMG_20200516_163604.jpg'\n",
        "image = io.imread(img_path)\n",
        "\n",
        "# Detect faces\n",
        "detected_faces = detect_faces(image)\n",
        "tab_faces = [] \n",
        "# Crop faces and plot\n",
        "for n, face_rect in enumerate(detected_faces):\n",
        "    face = Image.fromarray(image).crop(face_rect)\n",
        "    tab = np.asarray(face)\n",
        "    tab_faces.append(tab)\n",
        "    plt.subplot(1, len(detected_faces), n+1)\n",
        "    plt.axis('off')\n",
        "    plt.imshow(face)"
      ],
      "execution_count": 137,
      "outputs": [
        {
          "output_type": "display_data",
          "data": {
            "image/png": "[encoded data removed]",
            "text/plain": [
              "<Figure size 432x288 with 1 Axes>"
            ]
          },
          "metadata": {
            "tags": [],
            "needs_background": "light"
          }
        }
      ]
    },
    {
      "cell_type": "code",
      "metadata": {
        "id": "BpXK8T2Z70nx",
        "colab_type": "code",
        "colab": {}
      },
      "source": [
        "image_to_predict = np.asarray(face)\n",
        "img = cv2.resize(image_to_predict,(48,48),3)"
      ],
      "execution_count": 0,
      "outputs": []
    },
    {
      "cell_type": "code",
      "metadata": {
        "id": "VOp_8NB8JBJm",
        "colab_type": "code",
        "colab": {
          "base_uri": "https://localhost:8080/",
          "height": 301
        },
        "outputId": "7d2397b1-e24a-4edd-9895-e3b4807b25a1"
      },
      "source": [
        "tab = []\n",
        "tab.append(img)\n",
        "tab = np.array(tab)\n",
        "print(inv_dic[np.argmax(model.predict(tab))])\n",
        "plt.imshow(tab[0],cmap = plt.cm.binary)"
      ],
      "execution_count": 139,
      "outputs": [
        {
          "output_type": "stream",
          "text": [
            "happy\n"
          ],
          "name": "stdout"
        },
        {
          "output_type": "execute_result",
          "data": {
            "text/plain": [
              "<matplotlib.image.AxesImage at 0x7fc6aa6049b0>"
            ]
          },
          "metadata": {
            "tags": []
          },
          "execution_count": 139
        },
        {
          "output_type": "display_data",
          "data": {
            "image/png": "[encoded data removed]",
            "text/plain": [
              "<Figure size 432x288 with 1 Axes>"
            ]
          },
          "metadata": {
            "tags": [],
            "needs_background": "light"
          }
        }
      ]
    },
    {
      "cell_type": "code",
      "metadata": {
        "id": "dLcjZGd5JJj7",
        "colab_type": "code",
        "colab": {
          "base_uri": "https://localhost:8080/",
          "height": 34
        },
        "outputId": "8435c09b-3897-4114-f796-4ed6e2d6ae30"
      },
      "source": [
        "for img in tab_faces :\n",
        "  img = img = cv2.resize(img,(48,48),3)\n",
        "  tab = []\n",
        "  tab.append(img)\n",
        "  tab = np.array(tab)\n",
        "  print(inv_dic[np.argmax(model.predict(tab))])"
      ],
      "execution_count": 140,
      "outputs": [
        {
          "output_type": "stream",
          "text": [
            "happy\n"
          ],
          "name": "stdout"
        }
      ]
    },
    {
      "cell_type": "code",
      "metadata": {
        "id": "AJlVtYWTJF48",
        "colab_type": "code",
        "colab": {
          "base_uri": "https://localhost:8080/",
          "height": 183
        },
        "outputId": "cc3d906d-acc0-4df8-dba7-4f47373e2419"
      },
      "source": [
        "for i in range(len(tab_faces)) :\n",
        "  plt.subplot(1, len(tab)+1, n+1)\n",
        "  plt.axis('off')\n",
        "  plt.imshow(tab_faces[i],cmap = plt.cm.binary)"
      ],
      "execution_count": 141,
      "outputs": [
        {
          "output_type": "display_data",
          "data": {
            "image/png": "[encoded data removed]",
            "text/plain": [
              "<Figure size 432x288 with 1 Axes>"
            ]
          },
          "metadata": {
            "tags": [],
            "needs_background": "light"
          }
        }
      ]
    },
    {
      "cell_type": "code",
      "metadata": {
        "id": "7orlils9MXZw",
        "colab_type": "code",
        "colab": {}
      },
      "source": [
        ""
      ],
      "execution_count": 0,
      "outputs": []
    }
  ]
}